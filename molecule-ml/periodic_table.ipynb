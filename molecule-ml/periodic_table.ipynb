{
 "cells": [
  {
   "cell_type": "markdown",
   "id": "b5e2a09d",
   "metadata": {},
   "source": [
    "# Chemistry and Materials\n",
    "\n",
    "#### Developed by  R. Patrick Xian, Santosh Adhikari, Sourin Dey for Chemistry-ML-workshop, USC 08/2022\n",
    "#### Sophya Garashchuk for AI4Sciecne summer camp, USC 07/2024"
   ]
  },
  {
   "cell_type": "markdown",
   "id": "01e30141",
   "metadata": {},
   "source": [
    "## Here we focus on the following\n",
    " - Mendeleev (https://pypi.org/project/mendeleev/)"
   ]
  },
  {
   "cell_type": "markdown",
   "id": "91ec8285",
   "metadata": {},
   "source": [
    "## Mendeleev\n",
    "Python based package to extract different properties of elements in the periodic table (118 atoms, as of July, 2022)."
   ]
  },
  {
   "cell_type": "markdown",
   "id": "38722541",
   "metadata": {},
   "source": [
    "#### Extracting elemental properties"
   ]
  },
  {
   "cell_type": "markdown",
   "id": "d022b32d",
   "metadata": {},
   "source": [
    "#Requirements:\n",
    "#We need to install the following packages for accessing the tutorial materials\n",
    "#pip install mendeleev[vis]\n",
    "#pip install ase\n",
    "#pip install pymatgen"
   ]
  },
  {
   "cell_type": "code",
   "execution_count": null,
   "id": "d40d78fb",
   "metadata": {},
   "outputs": [],
   "source": [
    "#pip install pymatgen"
   ]
  },
  {
   "cell_type": "code",
   "execution_count": null,
   "id": "8e57f501",
   "metadata": {},
   "outputs": [],
   "source": [
    "from mendeleev import element"
   ]
  },
  {
   "cell_type": "markdown",
   "id": "9d6c63c4",
   "metadata": {},
   "source": [
    "# For details on mendeleev use 'help' or online documentation\n",
    "https://mendeleev.readthedocs.io/en/stable/index.html\n",
    "# Units are given in the Data section \n",
    "https://mendeleev.readthedocs.io/en/stable/data.html"
   ]
  },
  {
   "cell_type": "code",
   "execution_count": null,
   "id": "4ef4b2fc",
   "metadata": {},
   "outputs": [],
   "source": [
    "#help(element)"
   ]
  },
  {
   "cell_type": "code",
   "execution_count": null,
   "id": "9ea1a727",
   "metadata": {},
   "outputs": [],
   "source": [
    "element('C')  # All about Carbon"
   ]
  },
  {
   "cell_type": "markdown",
   "id": "94828c10",
   "metadata": {},
   "source": [
    "  We could eg. look up for an element 'Mg'. [Feel free to use any elements you like here]"
   ]
  },
  {
   "cell_type": "code",
   "execution_count": null,
   "id": "c336643a",
   "metadata": {},
   "outputs": [],
   "source": [
    "ele=element('La')"
   ]
  },
  {
   "cell_type": "code",
   "execution_count": null,
   "id": "ff428b6f",
   "metadata": {},
   "outputs": [],
   "source": [
    "print(dir(ele))"
   ]
  },
  {
   "cell_type": "markdown",
   "id": "98ee0094",
   "metadata": {},
   "source": [
    "Lets take a look what is stored inside 'ele' !!"
   ]
  },
  {
   "cell_type": "code",
   "execution_count": null,
   "id": "89df88f2",
   "metadata": {},
   "outputs": [],
   "source": [
    "ele"
   ]
  },
  {
   "cell_type": "markdown",
   "id": "25bb822d",
   "metadata": {},
   "source": [
    "We see a lot of values stored. Lets see what are values available for dipole polarizability, density, lattice_constant'\n",
    "electronic configuration (ec), ionic_radii, Paulings electronegativity etc !!!"
   ]
  },
  {
   "cell_type": "code",
   "execution_count": null,
   "id": "6f01d877",
   "metadata": {},
   "outputs": [],
   "source": [
    "ele.dipole_polarizability"
   ]
  },
  {
   "cell_type": "code",
   "execution_count": null,
   "id": "4408c1a0",
   "metadata": {},
   "outputs": [],
   "source": [
    "ele.lattice_constant"
   ]
  },
  {
   "cell_type": "code",
   "execution_count": null,
   "id": "af8f3620",
   "metadata": {},
   "outputs": [],
   "source": [
    "ele.density"
   ]
  },
  {
   "cell_type": "code",
   "execution_count": null,
   "id": "6c246111",
   "metadata": {},
   "outputs": [],
   "source": [
    "ele.ec"
   ]
  },
  {
   "cell_type": "code",
   "execution_count": null,
   "id": "7d2f8d28",
   "metadata": {},
   "outputs": [],
   "source": [
    "print(ele.ionic_radii)"
   ]
  },
  {
   "cell_type": "code",
   "execution_count": null,
   "id": "47ed391c",
   "metadata": {},
   "outputs": [],
   "source": [
    "ele.ionic_radii[0].ionic_radius "
   ]
  },
  {
   "cell_type": "code",
   "execution_count": null,
   "id": "408aebe5",
   "metadata": {},
   "outputs": [],
   "source": [
    "ele.ionic_radii[5].ionic_radius   # note how many ionic radii for different coordinations are provided"
   ]
  },
  {
   "cell_type": "markdown",
   "id": "33004fcb",
   "metadata": {},
   "source": [
    "Did we get error message while executing above code? Could we fix it if so? Yes !!! "
   ]
  },
  {
   "cell_type": "code",
   "execution_count": null,
   "id": "be36d722",
   "metadata": {},
   "outputs": [],
   "source": [
    "print(ele.en_pauling) # Pauling's electronegativity\n",
    "\n",
    "print(ele.proton_affinity) # energy to attach a proton"
   ]
  },
  {
   "cell_type": "markdown",
   "id": "bfa0fd90",
   "metadata": {},
   "source": [
    "There is another way of getting all the properties for any elements in the periodic table. Calling directly by the \n",
    "element name as below"
   ]
  },
  {
   "cell_type": "code",
   "execution_count": null,
   "id": "fbf4a928",
   "metadata": {},
   "outputs": [],
   "source": [
    "from mendeleev import Mg"
   ]
  },
  {
   "cell_type": "markdown",
   "id": "69a7da71",
   "metadata": {},
   "source": [
    "For example for getting density of Mg we can use. "
   ]
  },
  {
   "cell_type": "code",
   "execution_count": null,
   "id": "dc7247a3",
   "metadata": {},
   "outputs": [],
   "source": [
    "Mg.density"
   ]
  },
  {
   "cell_type": "markdown",
   "id": "5c3b9a99",
   "metadata": {},
   "source": [
    "#### Extracting as pandas dataframe"
   ]
  },
  {
   "cell_type": "code",
   "execution_count": null,
   "id": "2132edd0",
   "metadata": {},
   "outputs": [],
   "source": [
    "from mendeleev.fetch import fetch_table\n",
    "all_data = fetch_table('elements')\n",
    "all_data.head()\n",
    "#all_data.info()\n",
    "#all_data.dtypes\n",
    "#all_data.shape"
   ]
  },
  {
   "cell_type": "code",
   "execution_count": null,
   "id": "b8c18751",
   "metadata": {},
   "outputs": [],
   "source": [
    "all_data.shape"
   ]
  },
  {
   "cell_type": "code",
   "execution_count": null,
   "id": "b4422848",
   "metadata": {},
   "outputs": [],
   "source": [
    "all_data.info()"
   ]
  },
  {
   "cell_type": "code",
   "execution_count": null,
   "id": "a1105db6",
   "metadata": {},
   "outputs": [],
   "source": [
    "all_data.head()"
   ]
  },
  {
   "cell_type": "markdown",
   "id": "ffe5660a",
   "metadata": {},
   "source": [
    "#### Visualization"
   ]
  },
  {
   "cell_type": "code",
   "execution_count": null,
   "id": "4b1ab0d6",
   "metadata": {},
   "outputs": [],
   "source": [
    "from mendeleev.vis import periodic_table\n",
    "periodic_table()\n",
    "fig=periodic_table(attribute='lattice_constant', title=\"Lattice constants\")\n",
    "#fig.show()\n",
    "fig.show()"
   ]
  },
  {
   "cell_type": "code",
   "execution_count": null,
   "id": "e736a6d6",
   "metadata": {},
   "outputs": [],
   "source": [
    "fig=periodic_table(attribute='en_pauling', title=\"Paulings Electronegativity\")"
   ]
  },
  {
   "cell_type": "code",
   "execution_count": null,
   "id": "963a0502",
   "metadata": {},
   "outputs": [],
   "source": [
    "fig.show()"
   ]
  },
  {
   "cell_type": "code",
   "execution_count": null,
   "id": "84b8568f",
   "metadata": {},
   "outputs": [],
   "source": [
    "#fig = periodic_table_bokeh(elements, attribute=\"atomic_radius\", colorby=\"attribute\")\n",
    "#show(fig)"
   ]
  },
  {
   "cell_type": "code",
   "execution_count": null,
   "id": "8df09bfc",
   "metadata": {},
   "outputs": [],
   "source": [
    "#Using bokeh\n",
    "from mendeleev.vis import create_vis_dataframe, periodic_table_plotly\n",
    "elements = create_vis_dataframe()\n",
    "periodic_table_plotly(elements)\n",
    "from bokeh.plotting import show, output_notebook\n",
    "from mendeleev.vis import periodic_table_bokeh\n",
    "output_notebook()\n",
    "fig = periodic_table_bokeh(elements)\n",
    "show(fig)"
   ]
  },
  {
   "cell_type": "code",
   "execution_count": null,
   "id": "e1297dd6",
   "metadata": {},
   "outputs": [],
   "source": [
    "#show(fig)\n",
    "fig=periodic_table_bokeh(elements,attribute='lattice_constant', title=\"Lattice Constants\")\n",
    "show(fig)"
   ]
  },
  {
   "cell_type": "code",
   "execution_count": null,
   "id": "64445fbc",
   "metadata": {},
   "outputs": [],
   "source": []
  }
 ],
 "metadata": {
  "kernelspec": {
   "display_name": "Python 3",
   "language": "python",
   "name": "python3"
  },
  "language_info": {
   "codemirror_mode": {
    "name": "ipython",
    "version": 3
   },
   "file_extension": ".py",
   "mimetype": "text/x-python",
   "name": "python",
   "nbconvert_exporter": "python",
   "pygments_lexer": "ipython3",
   "version": "3.11.5"
  }
 },
 "nbformat": 4,
 "nbformat_minor": 5
}
